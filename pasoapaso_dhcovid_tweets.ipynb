{
 "cells": [
  {
   "cell_type": "markdown",
   "metadata": {},
   "source": [
    "# Topic modeling paso a paso: los temas de la pandemia\n",
    "\n",
    "Esta notebook muestra las etapas de una experiencia de modelización de tópicos con un corpus de tweets sobre la pandemia de coronavirus. Aquí explicamos cómo:\n",
    "\n",
    "- preprocesar los datos\n",
    "- entrenar modelos con LDA\n",
    "- generar visualizaciones de los resultados\n",
    "\n",
    "Autora: Nidia Hernández, CAICYT-CONICET, nidiahernandez@conicet.gov.ar"
   ]
  },
  {
   "cell_type": "markdown",
   "metadata": {},
   "source": [
    "## Requerimientos\n",
    "\n",
    "Primero, nos aseguramos de instalar las librerías necesarias y otros requerimientos."
   ]
  },
  {
   "cell_type": "code",
   "execution_count": 47,
   "metadata": {},
   "outputs": [],
   "source": [
    "#! pip install requirements.txt\n",
    "#! python -m nltk.downloader stopwords"
   ]
  },
  {
   "cell_type": "markdown",
   "metadata": {},
   "source": [
    "Importamos las librerías y las funciones que vamos a usar para el procesamiento:"
   ]
  },
  {
   "cell_type": "code",
   "execution_count": 48,
   "metadata": {},
   "outputs": [],
   "source": [
    "from os.path import isfile\n",
    "from os import makedirs\n",
    "import re\n",
    "\n",
    "from detectar_topicos import * # Importa las funciones del script detectar_topicos.py\n",
    "\n",
    "from nltk.tokenize import RegexpTokenizer\n",
    "\n",
    "from tqdm import tqdm\n",
    "\n",
    "import gensim\n",
    "from gensim import corpora\n",
    "from gensim.models import Phrases\n",
    "from gensim.models import CoherenceModel\n",
    "from gensim.models.ldamodel import LdaModel\n",
    "\n",
    "import pandas as pd\n",
    "import matplotlib.pyplot as plt\n",
    "import pyLDAvis.gensim\n",
    "\n",
    "import warnings\n",
    "warnings.filterwarnings(\"ignore\", category=DeprecationWarning)"
   ]
  },
  {
   "cell_type": "markdown",
   "metadata": {},
   "source": [
    "## Carga del corpus"
   ]
  },
  {
   "cell_type": "markdown",
   "metadata": {},
   "source": [
    "Usamos https://covid.dh.miami.edu/get/ para obtener una colección de tweets por fecha. Los tweets son descargados en formato txt, un tweet por línea. \n",
    "\n",
    "Aquí vamos a trabajar con los tweets sobre el covid19 de la última semana de octubre 2020 en Argentina."
   ]
  },
  {
   "cell_type": "code",
   "execution_count": 49,
   "metadata": {},
   "outputs": [
    {
     "name": "stdout",
     "output_type": "stream",
     "text": [
      "Hay 2142 tweets en la colección\n"
     ]
    }
   ],
   "source": [
    "corpus_path = 'dhcovid_2020-11-06_es_ar.txt'\n",
    "corpus_label = corpus_path.replace('.txt', '')\n",
    "\n",
    "with open(corpus_path, 'r') as fi:\n",
    "    tweets = fi.read()\n",
    "    tweets = set(tweets.split('\\n') ) # elimina duplicados\n",
    "    tweets = list(list(tweets))\n",
    "\n",
    "print(f'Hay {len(tweets)} tweets en la colección')"
   ]
  },
  {
   "cell_type": "markdown",
   "metadata": {},
   "source": [
    "Veamos los diez primeros tweets de esta colección:"
   ]
  },
  {
   "cell_type": "code",
   "execution_count": 50,
   "metadata": {},
   "outputs": [],
   "source": [
    "#tweets[:10]"
   ]
  },
  {
   "cell_type": "markdown",
   "metadata": {},
   "source": [
    "Hay muchos tokens irrelevantes para nuestro objetivo de detección de tópicos: 'URL', '@user', números, palabras vacías de contenido informativo, etc.\n",
    "\n",
    "## Preprocessing\n",
    "\n",
    "Es habitual mejorar la calidad de los datos de entrada del topic modeling realizando diversos tipos de preprocesamiento. Los más rápidos y sencillos son eliminar tokens poco pertinentes. Otros pueden ser computacionalmente más costosos pero mejoran notablemente la legibilidad de los resultados. En esta experiencia, realizaremos un pretratamiento standard: filtrar tokens, generar bigramas y marcar Named Entities.\n",
    "\n",
    "Creamos una etiqueta para identificar los modelos de acuerdo al pretratamiento que vamos a realizar:"
   ]
  },
  {
   "cell_type": "code",
   "execution_count": 51,
   "metadata": {},
   "outputs": [],
   "source": [
    "model_label = '2gram_ner_LDA'"
   ]
  },
  {
   "cell_type": "markdown",
   "metadata": {},
   "source": [
    "En primer lugar, eliminamos las transliteraciones de emojis usando la función `remove_emojis`:"
   ]
  },
  {
   "cell_type": "code",
   "execution_count": 52,
   "metadata": {},
   "outputs": [],
   "source": [
    "tweets = [remove_emojis(tweet).strip() for tweet in tweets]\n",
    "tweets = [tweet for tweet in tweets if tweet]\n",
    "tweets = [tweet.split() for tweet in tweets]"
   ]
  },
  {
   "cell_type": "markdown",
   "metadata": {},
   "source": [
    "Luego, eliminamos las palabras gramaticales ('la', 'que', 'de', etc) ya que son muy frecuentes pero no aportan información temática significativa. En el ámbito del _text processing_ estas palabras son conocidas como _stopwords_. Cargamos una lista genérica de _stopwords_ del español y le añadimos tokens particulares de nuestro corpus:"
   ]
  },
  {
   "cell_type": "code",
   "execution_count": 53,
   "metadata": {},
   "outputs": [
    {
     "name": "stdout",
     "output_type": "stream",
     "text": [
      "[dhcovid_2020-11-06_es_ar-2gram_ner_LDA] Filtrando stopwords\n"
     ]
    }
   ],
   "source": [
    "from nltk.corpus import stopwords\n",
    "stop_words = stopwords.words('spanish')\n",
    "stop_words_extra = ['@user', '#covid19', '#covid','#coronavirus','URL','xq','pq', 'q', 'd', 'x', 'e', 'k', 'l', 're','ja', 'jaja'\n",
    "                    'si', 'mas','da','dia', 'hoy', 'año', 'aca', 'ahi', 'aqui', 'vez', 'tras', 'traves', 'bueno']\n",
    "stop_words = stop_words+stop_words_extra\n",
    "\n",
    "print(f\"[{corpus_label}-{model_label}] Filtrando stopwords\")\n",
    "tweets_filtrados = [[token for token in texto if token not in stop_words] for texto in tweets]"
   ]
  },
  {
   "cell_type": "markdown",
   "metadata": {},
   "source": [
    "Nos interesa que conservar expresiones como \"nuevo caso\" o \"vacuna rusa\" porque ayudan notablemente a la lectura de resultados frente a las mismas palabras por separado. Esto lo logramos generando los bigramas de los tweets y conservando los que aparecen al menos 20 veces en la colección:"
   ]
  },
  {
   "cell_type": "code",
   "execution_count": 54,
   "metadata": {},
   "outputs": [
    {
     "name": "stderr",
     "output_type": "stream",
     "text": [
      "  0%|          | 0/2142 [00:00<?, ?it/s]"
     ]
    },
    {
     "name": "stdout",
     "output_type": "stream",
     "text": [
      "[dhcovid_2020-11-06_es_ar-2gram_ner_LDA] Generando bigramas\n"
     ]
    },
    {
     "name": "stderr",
     "output_type": "stream",
     "text": [
      "100%|██████████| 2142/2142 [00:00<00:00, 39419.60it/s]\n"
     ]
    }
   ],
   "source": [
    "print(f\"[{corpus_label}-{model_label}] Generando bigramas\")\n",
    "bigram = Phrases(tweets, min_count=15)\n",
    "\n",
    "tweets_bigrams = tweets_filtrados.copy()\n",
    "for idx in tqdm(range(len(tweets_filtrados))):\n",
    "    for token in bigram[tweets_filtrados[idx]]:\n",
    "        if '_' in token:\n",
    "            tweets_bigrams[idx].append(token)"
   ]
  },
  {
   "cell_type": "markdown",
   "metadata": {},
   "source": [
    "Filtramos los números después de generar los bigramas para conservar expresiones como '24_horas'."
   ]
  },
  {
   "cell_type": "code",
   "execution_count": 55,
   "metadata": {},
   "outputs": [],
   "source": [
    "tweets_bigrams_filt = [[token for token in texto if not token.isnumeric()] for texto in tweets_bigrams]"
   ]
  },
  {
   "cell_type": "markdown",
   "metadata": {},
   "source": [
    "Otro procesamiento que permite lograr resultados más claros para la lectura humana es la identificación de Named Entities. Esta técnica nos permite detectar expresiones como 'hospital ramos mejia' para marcarlas así 'hospital_ramos_mejia'.\n",
    "\n",
    "Previamente, usamos Spacy para detectar automáticamente las Named Entities de esta colección y las volcamos en una lista que revisamos manualmente para eliminar falsos positivos."
   ]
  },
  {
   "cell_type": "code",
   "execution_count": 56,
   "metadata": {
    "jupyter": {
     "source_hidden": true
    }
   },
   "outputs": [],
   "source": [
    "# import spacy\n",
    "# spacy_nlp = spacy.load('es_core_news_lg')\n",
    "# tweets_spacy = [spacy_nlp(' '.join(tweet), disable=[\"tagger\", \"parser\"]) for tweet in tqdm(tweets_bigrams_filt)]\n",
    "\n",
    "# with open(f'{corpus_label}_NE.lst', 'w') as fi:\n",
    "#     for tweet in tweets_spacy:\n",
    "#         for entity in tweet.ents:\n",
    "#             entity_words = str(entity).split()\n",
    "#             if len(entity_words) > 1:\n",
    "#                 fi.write(f'{\" \".join(entity_words)}\\n')"
   ]
  },
  {
   "cell_type": "code",
   "execution_count": 57,
   "metadata": {},
   "outputs": [
    {
     "name": "stderr",
     "output_type": "stream",
     "text": [
      "  0%|          | 0/2142 [00:00<?, ?it/s]"
     ]
    },
    {
     "name": "stdout",
     "output_type": "stream",
     "text": [
      "[dhcovid_2020-11-06_es_ar-2gram_ner_LDA] Identificando Named Entities\n"
     ]
    },
    {
     "name": "stderr",
     "output_type": "stream",
     "text": [
      "100%|██████████| 2142/2142 [00:01<00:00, 1315.66it/s]\n"
     ]
    }
   ],
   "source": [
    "print(f\"[{corpus_label}-{model_label}] Identificando Named Entities\")\n",
    "with open(f'dhcovid_es_ar_NE.lst', 'r') as fi: # lista de NE revisada manualemente\n",
    "    entidades_curadas = fi.read().split('\\n')\n",
    "\n",
    "tweets_ner = []\n",
    "for texto in tqdm(tweets_bigrams_filt):\n",
    "    texto = ' '.join(texto)\n",
    "    for entity in entidades_curadas:\n",
    "        entity_merged = '_'.join(entity.split())\n",
    "        texto = texto.replace(entity, entity_merged)\n",
    "    tweets_ner.append(texto.split())\n",
    "    "
   ]
  },
  {
   "cell_type": "markdown",
   "metadata": {},
   "source": [
    "Todas estas manipulaciones del corpus pueden ser costosas, por eso conviene guardar una copia del resultado:"
   ]
  },
  {
   "cell_type": "code",
   "execution_count": 58,
   "metadata": {},
   "outputs": [
    {
     "name": "stdout",
     "output_type": "stream",
     "text": [
      "[dhcovid_2020-11-06_es_ar] Guardando copia de tweets procesados\n"
     ]
    }
   ],
   "source": [
    "processed_tweets_path = corpus_path.replace(\".txt\", \".processed-tweets.json\")\n",
    "\n",
    "print(f\"[{corpus_label}] Guardando copia de tweets procesados\")\n",
    "dump_processed_tweets_as_json(tweets_ner, processed_tweets_path)"
   ]
  },
  {
   "cell_type": "markdown",
   "metadata": {},
   "source": [
    "## Entrenamiento\n",
    "\n",
    "Una vez que los datos de entrada fueron adaptados, podemos proceder al aprendizaje no supervisado de tópicos. Como los tópicos emergen automáticamente de los datos, no podemos saber de antemano cuántos serán. El parámetro `topic_numbers_to_try` permite configurar el rango de tópicos a entrenar.\n",
    "\n",
    "En este paso, también podemos refinar el corpus de entranda. El parámetro `filter_extremes` permite excluir palabras de frecuencia muy baja o demasiado alta (ver la función `make_dictionary_and_matrix` en `detectar_topicos.py`).\n",
    "\n",
    "⚠️ El aprendizaje puede llevar muchas horas si el corpus es grande."
   ]
  },
  {
   "cell_type": "code",
   "execution_count": 59,
   "metadata": {
    "collapsed": true,
    "jupyter": {
     "outputs_hidden": true
    }
   },
   "outputs": [
    {
     "name": "stdout",
     "output_type": "stream",
     "text": [
      "[dhcovid_2020-11-06_es_ar-2gram_ner_LDA] Unsupervised learning\n",
      "Training LDA model with 3 topics\n",
      "Saving in ./dhcovid_tweets_models/dhcovid_2020-11-06_es_ar-2gram_ner_LDA-ntopics03\n",
      "Training LDA model with 4 topics\n",
      "Saving in ./dhcovid_tweets_models/dhcovid_2020-11-06_es_ar-2gram_ner_LDA-ntopics04\n",
      "Training LDA model with 5 topics\n",
      "Saving in ./dhcovid_tweets_models/dhcovid_2020-11-06_es_ar-2gram_ner_LDA-ntopics05\n",
      "Training LDA model with 6 topics\n",
      "Saving in ./dhcovid_tweets_models/dhcovid_2020-11-06_es_ar-2gram_ner_LDA-ntopics06\n",
      "Training LDA model with 7 topics\n",
      "Saving in ./dhcovid_tweets_models/dhcovid_2020-11-06_es_ar-2gram_ner_LDA-ntopics07\n",
      "Training LDA model with 8 topics\n",
      "Saving in ./dhcovid_tweets_models/dhcovid_2020-11-06_es_ar-2gram_ner_LDA-ntopics08\n",
      "Training LDA model with 9 topics\n",
      "Saving in ./dhcovid_tweets_models/dhcovid_2020-11-06_es_ar-2gram_ner_LDA-ntopics09\n",
      "Training LDA model with 10 topics\n",
      "Saving in ./dhcovid_tweets_models/dhcovid_2020-11-06_es_ar-2gram_ner_LDA-ntopics10\n",
      "Training LDA model with 11 topics\n",
      "Saving in ./dhcovid_tweets_models/dhcovid_2020-11-06_es_ar-2gram_ner_LDA-ntopics11\n",
      "Training LDA model with 12 topics\n",
      "Saving in ./dhcovid_tweets_models/dhcovid_2020-11-06_es_ar-2gram_ner_LDA-ntopics12\n",
      "Training LDA model with 13 topics\n",
      "Saving in ./dhcovid_tweets_models/dhcovid_2020-11-06_es_ar-2gram_ner_LDA-ntopics13\n",
      "Training LDA model with 14 topics\n",
      "Saving in ./dhcovid_tweets_models/dhcovid_2020-11-06_es_ar-2gram_ner_LDA-ntopics14\n",
      "Training LDA model with 15 topics\n",
      "Saving in ./dhcovid_tweets_models/dhcovid_2020-11-06_es_ar-2gram_ner_LDA-ntopics15\n",
      "Training LDA model with 16 topics\n",
      "Saving in ./dhcovid_tweets_models/dhcovid_2020-11-06_es_ar-2gram_ner_LDA-ntopics16\n",
      "Training LDA model with 17 topics\n",
      "Saving in ./dhcovid_tweets_models/dhcovid_2020-11-06_es_ar-2gram_ner_LDA-ntopics17\n",
      "Training LDA model with 18 topics\n",
      "Saving in ./dhcovid_tweets_models/dhcovid_2020-11-06_es_ar-2gram_ner_LDA-ntopics18\n",
      "Training LDA model with 19 topics\n",
      "Saving in ./dhcovid_tweets_models/dhcovid_2020-11-06_es_ar-2gram_ner_LDA-ntopics19\n",
      "Training LDA model with 20 topics\n",
      "Saving in ./dhcovid_tweets_models/dhcovid_2020-11-06_es_ar-2gram_ner_LDA-ntopics20\n",
      "Training LDA model with 21 topics\n",
      "Saving in ./dhcovid_tweets_models/dhcovid_2020-11-06_es_ar-2gram_ner_LDA-ntopics21\n",
      "Training LDA model with 22 topics\n",
      "Saving in ./dhcovid_tweets_models/dhcovid_2020-11-06_es_ar-2gram_ner_LDA-ntopics22\n",
      "Training LDA model with 23 topics\n",
      "Saving in ./dhcovid_tweets_models/dhcovid_2020-11-06_es_ar-2gram_ner_LDA-ntopics23\n",
      "Training LDA model with 24 topics\n",
      "Saving in ./dhcovid_tweets_models/dhcovid_2020-11-06_es_ar-2gram_ner_LDA-ntopics24\n",
      "Training LDA model with 25 topics\n",
      "Saving in ./dhcovid_tweets_models/dhcovid_2020-11-06_es_ar-2gram_ner_LDA-ntopics25\n",
      "Training LDA model with 26 topics\n",
      "Saving in ./dhcovid_tweets_models/dhcovid_2020-11-06_es_ar-2gram_ner_LDA-ntopics26\n",
      "Training LDA model with 27 topics\n",
      "Saving in ./dhcovid_tweets_models/dhcovid_2020-11-06_es_ar-2gram_ner_LDA-ntopics27\n",
      "Training LDA model with 28 topics\n",
      "Saving in ./dhcovid_tweets_models/dhcovid_2020-11-06_es_ar-2gram_ner_LDA-ntopics28\n",
      "Training LDA model with 29 topics\n",
      "Saving in ./dhcovid_tweets_models/dhcovid_2020-11-06_es_ar-2gram_ner_LDA-ntopics29\n",
      "Training LDA model with 30 topics\n",
      "Saving in ./dhcovid_tweets_models/dhcovid_2020-11-06_es_ar-2gram_ner_LDA-ntopics30\n",
      "Training LDA model with 31 topics\n",
      "Saving in ./dhcovid_tweets_models/dhcovid_2020-11-06_es_ar-2gram_ner_LDA-ntopics31\n",
      "Training LDA model with 32 topics\n",
      "Saving in ./dhcovid_tweets_models/dhcovid_2020-11-06_es_ar-2gram_ner_LDA-ntopics32\n",
      "Training LDA model with 33 topics\n",
      "Saving in ./dhcovid_tweets_models/dhcovid_2020-11-06_es_ar-2gram_ner_LDA-ntopics33\n",
      "Training LDA model with 34 topics\n",
      "Saving in ./dhcovid_tweets_models/dhcovid_2020-11-06_es_ar-2gram_ner_LDA-ntopics34\n",
      "Training LDA model with 35 topics\n",
      "Saving in ./dhcovid_tweets_models/dhcovid_2020-11-06_es_ar-2gram_ner_LDA-ntopics35\n",
      "Training LDA model with 36 topics\n",
      "Saving in ./dhcovid_tweets_models/dhcovid_2020-11-06_es_ar-2gram_ner_LDA-ntopics36\n",
      "Training LDA model with 37 topics\n",
      "Saving in ./dhcovid_tweets_models/dhcovid_2020-11-06_es_ar-2gram_ner_LDA-ntopics37\n",
      "Training LDA model with 38 topics\n",
      "Saving in ./dhcovid_tweets_models/dhcovid_2020-11-06_es_ar-2gram_ner_LDA-ntopics38\n",
      "Training LDA model with 39 topics\n",
      "Saving in ./dhcovid_tweets_models/dhcovid_2020-11-06_es_ar-2gram_ner_LDA-ntopics39\n",
      "Training LDA model with 40 topics\n",
      "Saving in ./dhcovid_tweets_models/dhcovid_2020-11-06_es_ar-2gram_ner_LDA-ntopics40\n",
      "Training LDA model with 41 topics\n",
      "Saving in ./dhcovid_tweets_models/dhcovid_2020-11-06_es_ar-2gram_ner_LDA-ntopics41\n",
      "Training LDA model with 42 topics\n",
      "Saving in ./dhcovid_tweets_models/dhcovid_2020-11-06_es_ar-2gram_ner_LDA-ntopics42\n",
      "Training LDA model with 43 topics\n",
      "Saving in ./dhcovid_tweets_models/dhcovid_2020-11-06_es_ar-2gram_ner_LDA-ntopics43\n",
      "Training LDA model with 44 topics\n",
      "Saving in ./dhcovid_tweets_models/dhcovid_2020-11-06_es_ar-2gram_ner_LDA-ntopics44\n",
      "Training LDA model with 45 topics\n",
      "Saving in ./dhcovid_tweets_models/dhcovid_2020-11-06_es_ar-2gram_ner_LDA-ntopics45\n",
      "Training LDA model with 46 topics\n",
      "Saving in ./dhcovid_tweets_models/dhcovid_2020-11-06_es_ar-2gram_ner_LDA-ntopics46\n",
      "Training LDA model with 47 topics\n",
      "Saving in ./dhcovid_tweets_models/dhcovid_2020-11-06_es_ar-2gram_ner_LDA-ntopics47\n",
      "Training LDA model with 48 topics\n",
      "Saving in ./dhcovid_tweets_models/dhcovid_2020-11-06_es_ar-2gram_ner_LDA-ntopics48\n",
      "Training LDA model with 49 topics\n",
      "Saving in ./dhcovid_tweets_models/dhcovid_2020-11-06_es_ar-2gram_ner_LDA-ntopics49\n",
      "Training LDA model with 50 topics\n",
      "Saving in ./dhcovid_tweets_models/dhcovid_2020-11-06_es_ar-2gram_ner_LDA-ntopics50\n"
     ]
    }
   ],
   "source": [
    "print(f\"[{corpus_label}-{model_label}] Unsupervised learning\")\n",
    "models_dir='./dhcovid_tweets_models'\n",
    "\n",
    "models = train_several_LDA_models(\n",
    "    documentos=tweets_ner,\n",
    "    topic_numbers_to_try=range(3, 51),\n",
    "    corpus_label=corpus_label,\n",
    "    model_label=model_label,\n",
    "    models_dir=models_dir,\n",
    "    overwrite=True,\n",
    "    filter_extremes=True,\n",
    ")"
   ]
  },
  {
   "cell_type": "markdown",
   "metadata": {},
   "source": [
    "¿Cómo saber cuál es el modelo con el número óptimo de tópicos?\n",
    "\n",
    "## Evaluación automática\n",
    "\n",
    "En el paso anterior, entrenamos modelos para un amplio rango de tópicos. ¿Cómo saber cuál es el que mejor representa las temáticas que se tratan en nuestro corpus de tweets de Argentina de la última semana de octubre 2020 sobre el covid19?\n",
    "\n",
    "Una manera de encontrar _automáticamente_ el modelo con el mejor número de tópicos es usar un score de coherencia. Existen varias medidas que permiten evaluar la coherencia de los modelos generados. En esta notebook vamos a usar _cv_."
   ]
  },
  {
   "cell_type": "code",
   "execution_count": 60,
   "metadata": {},
   "outputs": [
    {
     "name": "stderr",
     "output_type": "stream",
     "text": [
      "Calculating model coherence: 100%|██████████| 48/48 [00:52<00:00,  1.09s/it]\n"
     ]
    },
    {
     "data": {
      "image/png": "[encoded data removed]",
      "text/plain": [
       "<Figure size 432x288 with 1 Axes>"
      ]
     },
     "metadata": {
      "needs_background": "light"
     },
     "output_type": "display_data"
    },
    {
     "name": "stdout",
     "output_type": "stream",
     "text": [
      "El modelo más coherente tiene 5 tópicos y recibió un score de c_v de 0.63\n"
     ]
    }
   ],
   "source": [
    "scores = calculate_topic_coherence(models, tweets_ner, measures=[\"c_v\"], filter_extremes=True)\n",
    "scores.to_csv(f'{models_dir}/{corpus_label}-{model_label}-coherence.csv')\n",
    "plot_cv(scores, corpus_label, model_label, models_dir)\n",
    "\n",
    "ntopics_with_top_cv_score = scores.set_index(\"ntopics\").c_v.idxmax()\n",
    "cv_score = round(scores.c_v.max(), 2)\n",
    "\n",
    "print(f\"El modelo más coherente tiene {ntopics_with_top_cv_score} tópicos y recibió un score de c_v de {cv_score}\")"
   ]
  },
  {
   "cell_type": "markdown",
   "metadata": {},
   "source": [
    "El score automático nos permite descartar rápidamente varios modelos, pero es necesario encontrar un compromiso entre el valor del score y un número de tópicos razonable para la evaluación cualitativa. En otras palabras, si tenemos, por ejemplo, un modelo con _cv_ de 0.7 y 150 tópicos puede ser poco práctico para un análisis humano, es preferible un modelo con un _cv_ menor y un número de tópicos más accesible para la lectura humana."
   ]
  },
  {
   "cell_type": "markdown",
   "metadata": {},
   "source": [
    "## Análisis de resultados\n",
    "\n",
    "Cada modelo tiene una cantidad de tópicos posibles. A su vez, cada tópico está integrado por las palabras más probables para ese tópico y la probabilidad asociada. Para visualizar toda esta información, construimos una tabla con los tópicos, las palabras y las probabilidades para el modelo que recibió el mejor scoring."
   ]
  },
  {
   "cell_type": "code",
   "execution_count": 61,
   "metadata": {},
   "outputs": [
    {
     "data": {
      "text/html": [
       "<div>\n",
       "<style scoped>\n",
       "    .dataframe tbody tr th:only-of-type {\n",
       "        vertical-align: middle;\n",
       "    }\n",
       "\n",
       "    .dataframe tbody tr th {\n",
       "        vertical-align: top;\n",
       "    }\n",
       "\n",
       "    .dataframe thead th {\n",
       "        text-align: right;\n",
       "    }\n",
       "</style>\n",
       "<table border=\"1\" class=\"dataframe\">\n",
       "  <thead>\n",
       "    <tr style=\"text-align: right;\">\n",
       "      <th></th>\n",
       "      <th>model_name</th>\n",
       "      <th>topic_id</th>\n",
       "      <th>word_ranking</th>\n",
       "      <th>word</th>\n",
       "      <th>word_proba</th>\n",
       "    </tr>\n",
       "  </thead>\n",
       "  <tbody>\n",
       "    <tr>\n",
       "      <th>0</th>\n",
       "      <td>dhcovid_2020-11-06_es_ar-2gram_ner_LDA</td>\n",
       "      <td>1</td>\n",
       "      <td>1</td>\n",
       "      <td>dio</td>\n",
       "      <td>0.010840</td>\n",
       "    </tr>\n",
       "    <tr>\n",
       "      <th>1</th>\n",
       "      <td>dhcovid_2020-11-06_es_ar-2gram_ner_LDA</td>\n",
       "      <td>1</td>\n",
       "      <td>2</td>\n",
       "      <td>contacto</td>\n",
       "      <td>0.010040</td>\n",
       "    </tr>\n",
       "    <tr>\n",
       "      <th>2</th>\n",
       "      <td>dhcovid_2020-11-06_es_ar-2gram_ner_LDA</td>\n",
       "      <td>1</td>\n",
       "      <td>3</td>\n",
       "      <td>pa</td>\n",
       "      <td>0.008868</td>\n",
       "    </tr>\n",
       "    <tr>\n",
       "      <th>3</th>\n",
       "      <td>dhcovid_2020-11-06_es_ar-2gram_ner_LDA</td>\n",
       "      <td>1</td>\n",
       "      <td>4</td>\n",
       "      <td>pesar</td>\n",
       "      <td>0.008728</td>\n",
       "    </tr>\n",
       "    <tr>\n",
       "      <th>4</th>\n",
       "      <td>dhcovid_2020-11-06_es_ar-2gram_ner_LDA</td>\n",
       "      <td>1</td>\n",
       "      <td>5</td>\n",
       "      <td>uruguay</td>\n",
       "      <td>0.008621</td>\n",
       "    </tr>\n",
       "    <tr>\n",
       "      <th>5</th>\n",
       "      <td>dhcovid_2020-11-06_es_ar-2gram_ner_LDA</td>\n",
       "      <td>1</td>\n",
       "      <td>6</td>\n",
       "      <td>minutos</td>\n",
       "      <td>0.008441</td>\n",
       "    </tr>\n",
       "    <tr>\n",
       "      <th>6</th>\n",
       "      <td>dhcovid_2020-11-06_es_ar-2gram_ner_LDA</td>\n",
       "      <td>1</td>\n",
       "      <td>7</td>\n",
       "      <td>alta</td>\n",
       "      <td>0.008166</td>\n",
       "    </tr>\n",
       "    <tr>\n",
       "      <th>7</th>\n",
       "      <td>dhcovid_2020-11-06_es_ar-2gram_ner_LDA</td>\n",
       "      <td>1</td>\n",
       "      <td>8</td>\n",
       "      <td>contagiados</td>\n",
       "      <td>0.007267</td>\n",
       "    </tr>\n",
       "    <tr>\n",
       "      <th>8</th>\n",
       "      <td>dhcovid_2020-11-06_es_ar-2gram_ner_LDA</td>\n",
       "      <td>1</td>\n",
       "      <td>9</td>\n",
       "      <td>cura</td>\n",
       "      <td>0.007165</td>\n",
       "    </tr>\n",
       "    <tr>\n",
       "      <th>9</th>\n",
       "      <td>dhcovid_2020-11-06_es_ar-2gram_ner_LDA</td>\n",
       "      <td>1</td>\n",
       "      <td>10</td>\n",
       "      <td>aislado</td>\n",
       "      <td>0.006952</td>\n",
       "    </tr>\n",
       "  </tbody>\n",
       "</table>\n",
       "</div>"
      ],
      "text/plain": [
       "                               model_name  topic_id  word_ranking  \\\n",
       "0  dhcovid_2020-11-06_es_ar-2gram_ner_LDA         1             1   \n",
       "1  dhcovid_2020-11-06_es_ar-2gram_ner_LDA         1             2   \n",
       "2  dhcovid_2020-11-06_es_ar-2gram_ner_LDA         1             3   \n",
       "3  dhcovid_2020-11-06_es_ar-2gram_ner_LDA         1             4   \n",
       "4  dhcovid_2020-11-06_es_ar-2gram_ner_LDA         1             5   \n",
       "5  dhcovid_2020-11-06_es_ar-2gram_ner_LDA         1             6   \n",
       "6  dhcovid_2020-11-06_es_ar-2gram_ner_LDA         1             7   \n",
       "7  dhcovid_2020-11-06_es_ar-2gram_ner_LDA         1             8   \n",
       "8  dhcovid_2020-11-06_es_ar-2gram_ner_LDA         1             9   \n",
       "9  dhcovid_2020-11-06_es_ar-2gram_ner_LDA         1            10   \n",
       "\n",
       "          word  word_proba  \n",
       "0          dio    0.010840  \n",
       "1     contacto    0.010040  \n",
       "2           pa    0.008868  \n",
       "3        pesar    0.008728  \n",
       "4      uruguay    0.008621  \n",
       "5      minutos    0.008441  \n",
       "6         alta    0.008166  \n",
       "7  contagiados    0.007267  \n",
       "8         cura    0.007165  \n",
       "9      aislado    0.006952  "
      ]
     },
     "execution_count": 61,
     "metadata": {},
     "output_type": "execute_result"
    }
   ],
   "source": [
    "best_model = models[ntopics_with_top_cv_score]\n",
    "tabla = make_table_all_topics(best_model, model_label, corpus_label)\n",
    "tabla.to_csv(f'{models_dir}/{corpus_label}-{model_label}-topics.csv')\n",
    "tabla.head(10)"
   ]
  },
  {
   "cell_type": "markdown",
   "metadata": {},
   "source": [
    "Ahora, para cada tópico, visualizamos las palabras que lo componen:"
   ]
  },
  {
   "cell_type": "code",
   "execution_count": 62,
   "metadata": {},
   "outputs": [
    {
     "name": "stdout",
     "output_type": "stream",
     "text": [
      "Tópico 1:  dio | contacto | pa | pesar | uruguay | minutos | alta | contagiados | cura | aislado | dio_positivo | elecciones | jornada | ultimo | detectaron\n",
      "Tópico 2:  ir | muertes | jueves | viernes | mes | santa_fe | rosario | salir | total | informe | noche | atras | viene | inmune | fernandez\n",
      "Tópico 3:  van | quiero | nueva | mierda | rusa | vacuna_rusa | voy | amba | pais | dicen | presidente | vivir | vida | vacunas | puta\n",
      "Tópico 4:  argentina | fallecio | pacientes | mundo | ibuprofeno | vamos | barbijo | horas | aun | ultimas | tratar | paciente | dale | saber | gran\n",
      "Tópico 5:  aspo | nuevo | ver | semanas | caso | dispo | orto | activos | millones | seguro | ganas | agarrar | atencion | contagia | mata\n"
     ]
    }
   ],
   "source": [
    "topic_total = tabla.topic_id.unique()\n",
    "for topic_id in topic_total:\n",
    "    topic = tabla.query(\"topic_id == @topic_id\")\n",
    "    print(f'Tópico {topic_id}: ', \" | \".join(topic.word))"
   ]
  },
  {
   "cell_type": "code",
   "execution_count": null,
   "metadata": {},
   "outputs": [],
   "source": []
  },
  {
   "cell_type": "code",
   "execution_count": null,
   "metadata": {},
   "outputs": [],
   "source": []
  },
  {
   "cell_type": "markdown",
   "metadata": {},
   "source": [
    "Podemos generar una visualización interactiva con más información donde podemos observar fácilmente cantidad de tópicos, distancia, peso y palabras de cada tópico:"
   ]
  },
  {
   "cell_type": "code",
   "execution_count": 63,
   "metadata": {},
   "outputs": [
    {
     "name": "stdout",
     "output_type": "stream",
     "text": [
      "Saving topic visualization to: ./dhcovid_tweets_models/dhcovid_2020-11-06_es_ar-2gram_ner_LDA.html\n"
     ]
    },
    {
     "data": {
      "text/html": [
       "\n",
       "<link rel=\"stylesheet\" type=\"text/css\" href=\"https://cdn.rawgit.com/bmabey/pyLDAvis/files/ldavis.v1.0.0.css\">\n",
       "\n",
       "\n",
       "<div id=\"ldavis_el881406190674039848467814613\"></div>\n",
       "<script type=\"text/javascript\">\n",
       "\n",
       "var ldavis_el881406190674039848467814613_data = {\"mdsDat\": {\"x\": [-0.19121248806012953, 0.14780938834855678, 0.1513128723827638, 0.02938667312502701, -0.13729644579621805], \"y\": [0.20186442300249, 0.04740180395070241, 0.050564413438990936, -0.10333476534018299, -0.1964958750520004], \"topics\": [1, 2, 3, 4, 5], \"cluster\": [1, 1, 1, 1, 1], \"Freq\": [25.13875961303711, 20.374561309814453, 20.164466857910156, 18.349557876586914, 15.97265338897705]}, \"tinfo\": {\"Term\": [\"aspo\", \"quiero\", \"van\", \"nuevo\", \"dio\", \"muertes\", \"nueva\", \"mierda\", \"ver\", \"semanas\", \"fallecio\", \"ir\", \"dispo\", \"argentina\", \"jueves\", \"pa\", \"caso\", \"pesar\", \"rusa\", \"minutos\", \"vacuna_rusa\", \"pacientes\", \"ibuprofeno\", \"uruguay\", \"viernes\", \"millones\", \"orto\", \"santa_fe\", \"amba\", \"mundo\", \"quiero\", \"nueva\", \"mierda\", \"rusa\", \"vacuna_rusa\", \"vivir\", \"cumple\", \"puta\", \"par\", \"riesgo\", \"puede\", \"podria\", \"sintoma\", \"alberto_fernandez\", \"mama\", \"marzo\", \"hablo\", \"poner\", \"dolores\", \"habilitan\", \"recibir\", \"estres\", \"grandes\", \"agarre\", \"dicen\", \"cancha\", \"distanciamiento\", \"ademas\", \"extra\\u00f1o\", \"tiempos\", \"presidente\", \"busqueda\", \"van\", \"vieja\", \"pais\", \"activa\", \"personal\", \"medidas\", \"amba\", \"voy\", \"vida\", \"vacunas\", \"clases\", \"a\\u00f1os\", \"creo\", \"nacional\", \"fallecio\", \"ibuprofeno\", \"barbijo\", \"vamos\", \"horas\", \"aun\", \"ultimas\", \"tratar\", \"gran\", \"jaja\", \"paciente\", \"utilizara\", \"inhalable\", \"dale\", \"compa\\u00f1ero\", \"papi\", \"asintomaticos\", \"pampa\", \"concha\", \"dan\", \"enfermos\", \"sanitarias\", \"reportaron\", \"enero\", \"so\\u00f1e\", \"confinamiento\", \"queres\", \"proxima\", \"amo\", \"usa\", \"registraron\", \"mundo\", \"seria\", \"argentina\", \"muertos\", \"semana\", \"pacientes\", \"necesito\", \"saber\", \"madre\", \"sera\", \"dos\", \"puedo\", \"trabajo\", \"dio\", \"pa\", \"pesar\", \"minutos\", \"contagiados\", \"aislado\", \"dio_positivo\", \"elecciones\", \"ultimo\", \"casas\", \"cura\", \"preventiva\", \"#noscuidamosentretodos\", \"sanitaria\", \"aspirina\", \"igual\", \"frente\", \"#quedateentucasa\", \"termino\", \"debido\", \"#river\", \"resultados\", \"#ahoramontevideo\", \"buen\", \"dolar\", \"llegada\", \"departamentos\", \"uruguay\", \"#elecciones2020\", \"#uruguaydecide\", \"jornada\", \"trump\", \"manera\", \"alta\", \"contacto\", \"avance\", \"dice\", \"sigue\", \"detectaron\", \"analisis\", \"dos\", \"jugadores\", \"persona\", \"cada\", \"cientificos\", \"pacientes\", \"jueves\", \"santa_fe\", \"atras\", \"toda\", \"pierdo\", \"agarro\", \"datos\", \"muestras\", \"infectados\", \"quiere\", \"positivas\", \"rioja\", \"segundo\", \"europa\", \"azul\", \"post\", \"evitar\", \"corresponden\", \"buena\", \"di\", \"#rosario\", \"negativas\", \"capital\", \"registro\", \"creer\", \"piden\", \"domingo\", \"suerte\", \"resultaron\", \"#santafe\", \"rosario\", \"fernandez\", \"temporada\", \"viene\", \"muertes\", \"ir\", \"mal\", \"viernes\", \"total\", \"mes\", \"sintomas\", \"salir\", \"noche\", \"inmune\", \"informe\", \"paso\", \"nadie\", \"dengue\", \"voy\", \"orto\", \"puedo\", \"aspo\", \"semanas\", \"dispo\", \"millones\", \"seguro\", \"agarrar\", \"atencion\", \"mata\", \"contagia\", \"test\", \"informacion\", \"preocupacion\", \"bajan\", \"ley\", \"obligatoria\", \"impacto\", \"autoridades\", \"acuerdo\", \"registra\", \"quedo\", \"intendentes\", \"aislar\", \"comenzo\", \"preventivamente\", \"salgo\", \"toma\", \"sumaron\", \"viendo\", \"tendra\", \"direccion\", \"ver\", \"ganas\", \"caso\", \"nuevo\", \"joda\", \"activos\", \"mil\", \"casa\", \"mismo\", \"orto\", \"mira\", \"ciudad\", \"clases\", \"amba\", \"salir\"], \"Freq\": [31.0, 40.0, 57.0, 43.0, 32.0, 42.0, 35.0, 35.0, 27.0, 24.0, 28.0, 46.0, 23.0, 39.0, 25.0, 26.0, 30.0, 26.0, 30.0, 25.0, 29.0, 40.0, 25.0, 26.0, 36.0, 20.0, 46.0, 22.0, 41.0, 28.0, 40.25211715698242, 35.310787200927734, 34.495445251464844, 30.03290367126465, 29.222698211669922, 25.98313331604004, 23.960851669311523, 24.26662254333496, 23.55544090270996, 21.832963943481445, 21.345932006835938, 20.218618392944336, 19.41063117980957, 19.005765914916992, 19.00479507446289, 17.7685604095459, 16.973255157470703, 16.967357635498047, 16.166738510131836, 16.165924072265625, 16.530607223510742, 15.345148086547852, 16.493484497070312, 14.8560791015625, 26.636804580688477, 16.055095672607422, 13.640359878540039, 13.62855339050293, 12.831710815429688, 12.42652702331543, 26.32428741455078, 18.80324363708496, 48.28964614868164, 18.391815185546875, 26.670045852661133, 18.252756118774414, 19.265762329101562, 19.320531845092773, 27.71882438659668, 28.20955467224121, 25.903377532958984, 24.57561492919922, 20.461849212646484, 20.333532333374023, 19.822580337524414, 19.63079261779785, 27.824857711791992, 24.605234146118164, 22.499149322509766, 22.857799530029297, 20.888916015625, 20.48206901550293, 20.0792293548584, 19.277963638305664, 18.067211151123047, 18.060468673706055, 19.202219009399414, 16.8649845123291, 16.462188720703125, 18.38217544555664, 16.423246383666992, 15.25249195098877, 15.235054016113281, 13.952210426330566, 11.13402271270752, 10.731196403503418, 10.729962348937988, 10.322196006774902, 10.316877365112305, 9.925814628601074, 9.524680137634277, 9.523476600646973, 9.522549629211426, 9.521971702575684, 9.51867961883545, 9.516637802124023, 13.15192985534668, 24.99146842956543, 12.634308815002441, 30.52339744567871, 16.951526641845703, 17.726318359375, 27.206214904785156, 11.764904022216797, 18.332048416137695, 17.81864356994629, 13.01419734954834, 14.491386413574219, 13.235870361328125, 12.969640731811523, 31.81558609008789, 26.02569007873535, 25.615564346313477, 24.77469253540039, 21.328086853027344, 20.402605056762695, 19.97380256652832, 19.65096664428711, 19.23594093322754, 17.557350158691406, 21.02835464477539, 13.273995399475098, 12.432113647460938, 12.431229591369629, 12.430908203125, 12.430482864379883, 13.206802368164062, 12.012789726257324, 12.012235641479492, 12.01136302947998, 11.59616756439209, 11.171915054321289, 10.754301071166992, 10.753750801086426, 10.752429962158203, 10.75120735168457, 10.749780654907227, 25.302993774414062, 10.335481643676758, 10.335403442382812, 19.40659523010254, 17.926286697387695, 15.27419662475586, 23.966896057128906, 29.4658203125, 14.411648750305176, 13.9609375, 14.513627052307129, 17.956697463989258, 17.239667892456055, 17.305017471313477, 13.63781452178955, 17.036901473999023, 14.183006286621094, 13.01170539855957, 12.988609313964844, 24.67315673828125, 21.36084747314453, 16.430526733398438, 14.37082290649414, 14.82347583770752, 13.593624114990234, 12.807149887084961, 12.418985366821289, 12.414353370666504, 12.408766746520996, 12.029369354248047, 12.026983261108398, 11.63223934173584, 11.630647659301758, 14.67632007598877, 11.241487503051758, 11.240922927856445, 10.851131439208984, 10.832207679748535, 10.457337379455566, 10.456990242004395, 10.066933631896973, 10.06673526763916, 10.064607620239258, 10.061933517456055, 10.05327033996582, 10.049707412719727, 10.414128303527832, 9.674413681030273, 9.671513557434082, 20.435562133789062, 15.029960632324219, 10.381752967834473, 16.042957305908203, 31.725412368774414, 32.29956817626953, 14.148091316223145, 24.083818435668945, 18.143917083740234, 22.210969924926758, 12.93708610534668, 19.8446102142334, 16.737884521484375, 15.571277618408203, 17.10978126525879, 12.707751274108887, 13.100481986999512, 12.714423179626465, 14.95534610748291, 14.864121437072754, 13.534719467163086, 31.20482063293457, 23.998817443847656, 22.881750106811523, 19.715442657470703, 18.302106857299805, 17.172504425048828, 16.77584457397461, 16.055519104003906, 16.383758544921875, 15.216564178466797, 14.837803840637207, 14.558704376220703, 14.165526390075684, 12.977005004882812, 12.971295356750488, 10.725967407226562, 10.720688819885254, 10.332380294799805, 9.979531288146973, 9.59821605682373, 9.231898307800293, 9.230387687683105, 9.228577613830566, 9.221240997314453, 8.856785774230957, 8.856048583984375, 8.855786323547363, 8.855741500854492, 8.855205535888672, 8.85432243347168, 25.210538864135742, 17.75809097290039, 23.901107788085938, 29.87163734436035, 10.934293746948242, 19.894275665283203, 12.403915405273438, 13.456563949584961, 13.527832984924316, 22.549036026000977, 14.197157859802246, 12.048078536987305, 13.129395484924316, 12.957816123962402, 10.838798522949219], \"Total\": [31.0, 40.0, 57.0, 43.0, 32.0, 42.0, 35.0, 35.0, 27.0, 24.0, 28.0, 46.0, 23.0, 39.0, 25.0, 26.0, 30.0, 26.0, 30.0, 25.0, 29.0, 40.0, 25.0, 26.0, 36.0, 20.0, 46.0, 22.0, 41.0, 28.0, 40.951255798339844, 35.997432708740234, 35.18598175048828, 30.725021362304688, 29.91398048400879, 26.669715881347656, 24.64267921447754, 24.9582576751709, 24.23716926574707, 22.525449752807617, 22.030826568603516, 20.903411865234375, 20.09259605407715, 19.68711280822754, 19.68701934814453, 18.469194412231445, 17.659059524536133, 17.658607482910156, 16.84827995300293, 16.848175048828125, 17.250591278076172, 16.036134719848633, 17.2491512298584, 15.542009353637695, 27.90566635131836, 16.846681594848633, 14.325603485107422, 14.324646949768066, 13.514612197875977, 13.109116554260254, 28.663175582885742, 20.420570373535156, 57.8687858581543, 20.014728546142578, 31.436203002929688, 20.00395393371582, 21.77455711364746, 22.016807556152344, 41.20166778564453, 43.70619201660156, 37.65743637084961, 39.255741119384766, 34.11503219604492, 33.944923400878906, 31.11196517944336, 29.822975158691406, 28.51131248474121, 25.28900718688965, 23.185916900634766, 23.589086532592773, 21.57473373413086, 21.171911239624023, 20.768754959106445, 19.963586807250977, 18.7550106048584, 18.754838943481445, 19.961368560791016, 17.546932220458984, 17.144105911254883, 19.158588409423828, 17.1412353515625, 15.935463905334473, 15.935118675231934, 14.638152122497559, 11.81845760345459, 11.415748596191406, 11.41580581665039, 11.01236629486084, 11.011768341064453, 10.61011791229248, 10.207423210144043, 10.207307815551758, 10.207235336303711, 10.207311630249023, 10.207038879394531, 10.20716667175293, 14.240297317504883, 28.034687042236328, 13.796388626098633, 39.03683853149414, 20.308149337768555, 22.87034797668457, 40.70026397705078, 13.435908317565918, 28.062795639038086, 36.372920989990234, 21.144134521484375, 32.32272720336914, 27.349504470825195, 24.463821411132812, 32.4957160949707, 26.714468002319336, 26.296266555786133, 25.45685577392578, 22.009498596191406, 21.07904624938965, 20.65903091430664, 20.332059860229492, 19.912879943847656, 18.235063552856445, 21.997751235961914, 13.94888687133789, 13.109601974487305, 13.109477996826172, 13.109495162963867, 13.109315872192383, 13.945757865905762, 12.690176963806152, 12.690098762512207, 12.689933776855469, 12.271110534667969, 11.851092338562012, 11.431828498840332, 11.431724548339844, 11.431490898132324, 11.431473731994629, 11.431157112121582, 26.929302215576172, 11.012465476989746, 11.012455940246582, 20.708351135253906, 20.174365997314453, 17.258527755737305, 34.69011306762695, 46.7325325012207, 17.304460525512695, 16.801986694335938, 18.345186233520508, 27.76702880859375, 26.543428421020508, 32.32272720336914, 17.67664909362793, 36.956390380859375, 27.855194091796875, 18.457380294799805, 40.70026397705078, 25.36239242553711, 22.049705505371094, 17.119625091552734, 15.070612907409668, 15.546897888183594, 14.28558349609375, 13.500633239746094, 13.108197212219238, 13.107697486877441, 13.107025146484375, 12.715840339660645, 12.715734481811523, 12.322914123535156, 12.32280445098877, 15.552247047424316, 11.9305419921875, 11.930634498596191, 11.538253784179688, 11.538360595703125, 11.145614624023438, 11.145559310913086, 10.753263473510742, 10.753250122070312, 10.753108024597168, 10.752948760986328, 10.753067970275879, 10.752496719360352, 11.143653869628906, 10.360743522644043, 10.36043643951416, 22.257946014404297, 16.375513076782227, 11.150211334228516, 18.6645565032959, 42.67539978027344, 46.54682922363281, 16.763687133789062, 36.421573638916016, 25.041791915893555, 35.36186981201172, 15.588351249694824, 31.2177791595459, 25.998157501220703, 23.905197143554688, 37.38291931152344, 16.72500228881836, 18.803068161010742, 18.0534725189209, 43.70619201660156, 46.90486145019531, 27.349504470825195, 31.900657653808594, 24.700927734375, 23.577116012573242, 20.415590286254883, 18.999536514282227, 17.875797271728516, 17.501861572265625, 16.751813888549805, 17.128686904907227, 15.920564651489258, 15.545740127563477, 15.25352954864502, 14.879231452941895, 13.672903060913086, 13.67287540435791, 11.425232887268066, 11.425260543823242, 11.050982475280762, 10.675971984863281, 10.301480293273926, 9.926855087280273, 9.926799774169922, 9.926846504211426, 9.927226066589355, 9.552041053771973, 9.552265167236328, 9.552228927612305, 9.552213668823242, 9.552223205566406, 9.552265167236328, 27.755918502807617, 21.071701049804688, 30.072790145874023, 43.36426544189453, 12.617513656616211, 28.949726104736328, 15.746450424194336, 18.066917419433594, 18.987567901611328, 46.90486145019531, 27.632892608642578, 19.358203887939453, 34.11503219604492, 41.20166778564453, 31.2177791595459], \"Category\": [\"Default\", \"Default\", \"Default\", \"Default\", \"Default\", \"Default\", \"Default\", \"Default\", \"Default\", \"Default\", \"Default\", \"Default\", \"Default\", \"Default\", \"Default\", \"Default\", \"Default\", \"Default\", \"Default\", \"Default\", \"Default\", \"Default\", \"Default\", \"Default\", \"Default\", \"Default\", \"Default\", \"Default\", \"Default\", \"Default\", \"Topic1\", \"Topic1\", \"Topic1\", \"Topic1\", \"Topic1\", \"Topic1\", \"Topic1\", \"Topic1\", \"Topic1\", \"Topic1\", \"Topic1\", \"Topic1\", \"Topic1\", \"Topic1\", \"Topic1\", \"Topic1\", \"Topic1\", \"Topic1\", \"Topic1\", \"Topic1\", \"Topic1\", \"Topic1\", \"Topic1\", \"Topic1\", \"Topic1\", \"Topic1\", \"Topic1\", \"Topic1\", \"Topic1\", \"Topic1\", \"Topic1\", \"Topic1\", \"Topic1\", \"Topic1\", \"Topic1\", \"Topic1\", \"Topic1\", \"Topic1\", \"Topic1\", \"Topic1\", \"Topic1\", \"Topic1\", \"Topic1\", \"Topic1\", \"Topic1\", \"Topic1\", \"Topic2\", \"Topic2\", \"Topic2\", \"Topic2\", \"Topic2\", \"Topic2\", \"Topic2\", \"Topic2\", \"Topic2\", \"Topic2\", \"Topic2\", \"Topic2\", \"Topic2\", \"Topic2\", \"Topic2\", \"Topic2\", \"Topic2\", \"Topic2\", \"Topic2\", \"Topic2\", \"Topic2\", \"Topic2\", \"Topic2\", \"Topic2\", \"Topic2\", \"Topic2\", \"Topic2\", \"Topic2\", \"Topic2\", \"Topic2\", \"Topic2\", \"Topic2\", \"Topic2\", \"Topic2\", \"Topic2\", \"Topic2\", \"Topic2\", \"Topic2\", \"Topic2\", \"Topic2\", \"Topic2\", \"Topic2\", \"Topic2\", \"Topic2\", \"Topic3\", \"Topic3\", \"Topic3\", \"Topic3\", \"Topic3\", \"Topic3\", \"Topic3\", \"Topic3\", \"Topic3\", \"Topic3\", \"Topic3\", \"Topic3\", \"Topic3\", \"Topic3\", \"Topic3\", \"Topic3\", \"Topic3\", \"Topic3\", \"Topic3\", \"Topic3\", \"Topic3\", \"Topic3\", \"Topic3\", \"Topic3\", \"Topic3\", \"Topic3\", \"Topic3\", \"Topic3\", \"Topic3\", \"Topic3\", \"Topic3\", \"Topic3\", \"Topic3\", \"Topic3\", \"Topic3\", \"Topic3\", \"Topic3\", \"Topic3\", \"Topic3\", \"Topic3\", \"Topic3\", \"Topic3\", \"Topic3\", \"Topic3\", \"Topic3\", \"Topic3\", \"Topic4\", \"Topic4\", \"Topic4\", \"Topic4\", \"Topic4\", \"Topic4\", \"Topic4\", \"Topic4\", \"Topic4\", \"Topic4\", \"Topic4\", \"Topic4\", \"Topic4\", \"Topic4\", \"Topic4\", \"Topic4\", \"Topic4\", \"Topic4\", \"Topic4\", \"Topic4\", \"Topic4\", \"Topic4\", \"Topic4\", \"Topic4\", \"Topic4\", \"Topic4\", \"Topic4\", \"Topic4\", \"Topic4\", \"Topic4\", \"Topic4\", \"Topic4\", \"Topic4\", \"Topic4\", \"Topic4\", \"Topic4\", \"Topic4\", \"Topic4\", \"Topic4\", \"Topic4\", \"Topic4\", \"Topic4\", \"Topic4\", \"Topic4\", \"Topic4\", \"Topic4\", \"Topic4\", \"Topic4\", \"Topic4\", \"Topic4\", \"Topic4\", \"Topic5\", \"Topic5\", \"Topic5\", \"Topic5\", \"Topic5\", \"Topic5\", \"Topic5\", \"Topic5\", \"Topic5\", \"Topic5\", \"Topic5\", \"Topic5\", \"Topic5\", \"Topic5\", \"Topic5\", \"Topic5\", \"Topic5\", \"Topic5\", \"Topic5\", \"Topic5\", \"Topic5\", \"Topic5\", \"Topic5\", \"Topic5\", \"Topic5\", \"Topic5\", \"Topic5\", \"Topic5\", \"Topic5\", \"Topic5\", \"Topic5\", \"Topic5\", \"Topic5\", \"Topic5\", \"Topic5\", \"Topic5\", \"Topic5\", \"Topic5\", \"Topic5\", \"Topic5\", \"Topic5\", \"Topic5\", \"Topic5\", \"Topic5\", \"Topic5\"], \"logprob\": [30.0, 29.0, 28.0, 27.0, 26.0, 25.0, 24.0, 23.0, 22.0, 21.0, 20.0, 19.0, 18.0, 17.0, 16.0, 15.0, 14.0, 13.0, 12.0, 11.0, 10.0, 9.0, 8.0, 7.0, 6.0, 5.0, 4.0, 3.0, 2.0, 1.0, -4.509799957275391, -4.640699863433838, -4.664100170135498, -4.802599906921387, -4.829999923706055, -4.947500228881836, -5.028500080108643, -5.0157999992370605, -5.045599937438965, -5.121500015258789, -5.144100189208984, -5.198299884796143, -5.239099979400635, -5.260200023651123, -5.260200023651123, -5.327499866485596, -5.373300075531006, -5.373600006103516, -5.421999931335449, -5.421999931335449, -5.399700164794922, -5.474100112915039, -5.4019999504089355, -5.506499767303467, -4.922599792480469, -5.428899765014648, -5.591899871826172, -5.592800140380859, -5.6529998779296875, -5.685100078582764, -4.9344000816345215, -5.270899772644043, -4.327700138092041, -5.293000221252441, -4.92140007019043, -5.300600051879883, -5.246600151062012, -5.243800163269043, -4.882800102233887, -4.865300178527832, -4.9506001472473145, -5.003200054168701, -5.186399936676025, -5.192699909210205, -5.218100070953369, -5.227799892425537, -4.668900012969971, -4.791800022125244, -4.88129997253418, -4.865499973297119, -4.955599784851074, -4.975299835205078, -4.995100021362305, -5.035799980163574, -5.1006999015808105, -5.101099967956543, -5.03980016708374, -5.169600009918213, -5.193699836730957, -5.083399772644043, -5.196100234985352, -5.270100116729736, -5.271200180053711, -5.3592000007629395, -5.584799766540527, -5.621699810028076, -5.621799945831299, -5.6605000495910645, -5.660999774932861, -5.699699878692627, -5.740900039672852, -5.741000175476074, -5.741099834442139, -5.741199970245361, -5.741600036621094, -5.741799831390381, -5.4182000160217285, -4.776299953460693, -5.458399772644043, -4.576300144195557, -5.164400100708008, -5.119800090789795, -4.691400051116943, -5.529699802398682, -5.08620023727417, -5.11460018157959, -5.428800106048584, -5.321300029754639, -5.411900043487549, -5.432199954986572, -4.524499893188477, -4.725399971008301, -4.741199970245361, -4.774600028991699, -4.9243998527526855, -4.968800067901611, -4.989999771118164, -5.00629997253418, -5.027699947357178, -5.11899995803833, -4.938600063323975, -5.398600101470947, -5.464200019836426, -5.464200019836426, -5.464300155639648, -5.464300155639648, -5.40369987487793, -5.498499870300293, -5.498499870300293, -5.498600006103516, -5.53380012512207, -5.571000099182129, -5.609099864959717, -5.6092000007629395, -5.609300136566162, -5.609399795532227, -5.609600067138672, -4.753499984741211, -5.648900032043457, -5.648900032043457, -5.018799781799316, -5.098199844360352, -5.258299827575684, -4.807799816131592, -4.601200103759766, -5.316400051116943, -5.348199844360352, -5.3094000816345215, -5.096499919891357, -5.137199878692627, -5.133399963378906, -5.371600151062012, -5.149099826812744, -5.332399845123291, -5.418600082397461, -5.420400142669678, -4.6844000816345215, -4.82859992980957, -5.091000080108643, -5.224899768829346, -5.193900108337402, -5.2804999351501465, -5.340099811553955, -5.3709001541137695, -5.371300220489502, -5.371699810028076, -5.4028000831604, -5.4029998779296875, -5.436299800872803, -5.436500072479248, -5.20389986038208, -5.4704999923706055, -5.470600128173828, -5.505899906158447, -5.507599830627441, -5.542799949645996, -5.542900085449219, -5.580900192260742, -5.580900192260742, -5.581099987030029, -5.581399917602539, -5.582200050354004, -5.582600116729736, -5.546999931335449, -5.62060022354126, -5.6209001541137695, -4.872799873352051, -5.180099964141846, -5.550099849700928, -5.1149001121521, -4.433000087738037, -4.41510009765625, -5.240499973297119, -4.708600044250488, -4.991799831390381, -4.7895002365112305, -5.329999923706055, -4.902200222015381, -5.072400093078613, -5.144700050354004, -5.05049991607666, -5.347899913787842, -5.317500114440918, -5.347400188446045, -5.185100078582764, -5.191199779510498, -5.284900188446045, -4.310800075531006, -4.573400020599365, -4.621099948883057, -4.769999980926514, -4.844399929046631, -4.908100128173828, -4.93149995803833, -4.975299835205078, -4.955100059509277, -5.0289998054504395, -5.054200172424316, -5.073200225830078, -5.100599765777588, -5.188199996948242, -5.188700199127197, -5.378699779510498, -5.379199981689453, -5.416100025177002, -5.450900077819824, -5.489799976348877, -5.52869987487793, -5.528900146484375, -5.529099941253662, -5.529900074005127, -5.570199966430664, -5.570300102233887, -5.570300102233887, -5.570300102233887, -5.570400238037109, -5.570499897003174, -4.524099826812744, -4.874599933624268, -4.577499866485596, -4.354499816894531, -5.359499931335449, -4.761000156402588, -5.233399868011475, -5.151899814605713, -5.146599769592285, -4.635700225830078, -5.098400115966797, -5.262499809265137, -5.176499843597412, -5.189700126647949, -5.368299961090088], \"loglift\": [30.0, 29.0, 28.0, 27.0, 26.0, 25.0, 24.0, 23.0, 22.0, 21.0, 20.0, 19.0, 18.0, 17.0, 16.0, 15.0, 14.0, 13.0, 12.0, 11.0, 10.0, 9.0, 8.0, 7.0, 6.0, 5.0, 4.0, 3.0, 2.0, 1.0, 1.3634999990463257, 1.3615000247955322, 1.3609000444412231, 1.3580000400543213, 1.3573999404907227, 1.354699969291687, 1.3526999950408936, 1.3526999950408936, 1.3522000312805176, 1.3494999408721924, 1.3492000102996826, 1.347499966621399, 1.3461999893188477, 1.3454999923706055, 1.3454999923706055, 1.3421000242233276, 1.3410999774932861, 1.3408000469207764, 1.3394999504089355, 1.339400053024292, 1.3380999565124512, 1.3366999626159668, 1.3359999656677246, 1.3356000185012817, 1.3342000246047974, 1.3325999975204468, 1.3316999673843384, 1.330899953842163, 1.3288999795913696, 1.327299952507019, 1.2956000566482544, 1.298200011253357, 1.1998000144958496, 1.2962000370025635, 1.2163000106811523, 1.2891000509262085, 1.2582999467849731, 1.250100016593933, 0.9843999743461609, 0.9429000020027161, 1.006600022315979, 0.9124000072479248, 0.8695999979972839, 0.8683000206947327, 0.9300000071525574, 0.9625999927520752, 1.566499948501587, 1.5635000467300415, 1.5607999563217163, 1.559399962425232, 1.5585999488830566, 1.557800054550171, 1.5571000576019287, 1.555899977684021, 1.5535000562667847, 1.5532000064849854, 1.5520999431610107, 1.551200032234192, 1.5503000020980835, 1.5494999885559082, 1.5480999946594238, 1.5470999479293823, 1.5460000038146973, 1.5428999662399292, 1.5312000513076782, 1.5290000438690186, 1.5289000272750854, 1.5262000560760498, 1.5256999731063843, 1.5241999626159668, 1.5217000246047974, 1.5214999914169312, 1.521399974822998, 1.521399974822998, 1.5211000442504883, 1.520799994468689, 1.5113999843597412, 1.4759999513626099, 1.5029000043869019, 1.3449000120162964, 1.4101999998092651, 1.3360999822616577, 1.188099980354309, 1.4580999612808228, 1.1650999784469604, 0.8773000240325928, 1.1055999994277954, 0.7886999845504761, 0.8651000261306763, 0.9563000202178955, 1.5801000595092773, 1.5750999450683594, 1.5750000476837158, 1.5741000175476074, 1.5698000192642212, 1.568600058555603, 1.5674999952316284, 1.567199945449829, 1.5666999816894531, 1.5634000301361084, 1.5562000274658203, 1.5516999959945679, 1.548200011253357, 1.5480999946594238, 1.5480999946594238, 1.5480999946594238, 1.5468000173568726, 1.5463999509811401, 1.5463999509811401, 1.5463000535964966, 1.544700026512146, 1.542199969291687, 1.5401999950408936, 1.5400999784469604, 1.5399999618530273, 1.5398999452590942, 1.5398000478744507, 1.5390000343322754, 1.5377999544143677, 1.5377999544143677, 1.5362999439239502, 1.4831000566482544, 1.479099988937378, 1.2315000295639038, 1.1399999856948853, 1.4183000326156616, 1.4160000085830688, 1.3669999837875366, 1.1654000282287598, 1.169700026512146, 0.9764999747276306, 1.3417999744415283, 0.8269000053405762, 0.9262999892234802, 1.2516000270843506, 0.45910000801086426, 1.6679999828338623, 1.6638000011444092, 1.6545000076293945, 1.6480000019073486, 1.6478999853134155, 1.645900011062622, 1.642799973487854, 1.6416000127792358, 1.6411999464035034, 1.6407999992370605, 1.6401000022888184, 1.6398999691009521, 1.6378999948501587, 1.6377999782562256, 1.6375999450683594, 1.6361000537872314, 1.6360000371932983, 1.6341999769210815, 1.6324000358581543, 1.6318000555038452, 1.6318000555038452, 1.6296000480651855, 1.6296000480651855, 1.6294000148773193, 1.62909996509552, 1.6282999515533447, 1.628000020980835, 1.6279000043869019, 1.6269999742507935, 1.6267999410629272, 1.6101000308990479, 1.6097999811172485, 1.6241999864578247, 1.5441999435424805, 1.3990999460220337, 1.330199956893921, 1.5259000062942505, 1.2819000482559204, 1.3733999729156494, 1.2304999828338623, 1.5090999603271484, 1.2424999475479126, 1.2552000284194946, 1.2668999433517456, 0.9139999747276306, 1.4208999872207642, 1.3342000246047974, 1.3450000286102295, 0.6230999827384949, 0.5464000105857849, 0.9921000003814697, 1.8121999502182007, 1.8055000305175781, 1.8043999671936035, 1.799399971961975, 1.7969000339508057, 1.7941999435424805, 1.7919000387191772, 1.7918000221252441, 1.7898000478744507, 1.7891000509262085, 1.7877000570297241, 1.7877000570297241, 1.785099983215332, 1.782099962234497, 1.781599998474121, 1.7711000442504883, 1.7705999612808228, 1.7670999765396118, 1.766800045967102, 1.7635999917984009, 1.7617000341415405, 1.7616000175476074, 1.7613999843597412, 1.7604999542236328, 1.7587000131607056, 1.7585999965667725, 1.7585999965667725, 1.7585999965667725, 1.7584999799728394, 1.7583999633789062, 1.7381000518798828, 1.6632000207901, 1.604599952697754, 1.4615999460220337, 1.691100001335144, 1.4592000246047974, 1.5957000255584717, 1.5397000312805176, 1.495300054550171, 1.1018999814987183, 1.1683000326156616, 1.3601000308990479, 0.8794000148773193, 0.6775000095367432, 0.7764000296592712]}, \"token.table\": {\"Topic\": [3, 3, 3, 3, 3, 4, 4, 3, 1, 5, 2, 5, 5, 1, 5, 1, 4, 3, 5, 1, 2, 3, 1, 5, 2, 3, 4, 1, 2, 2, 3, 5, 5, 4, 2, 5, 2, 3, 4, 1, 2, 3, 5, 2, 3, 4, 1, 5, 1, 3, 1, 4, 2, 5, 3, 3, 5, 2, 3, 2, 3, 4, 5, 1, 5, 5, 2, 2, 2, 1, 2, 3, 5, 3, 4, 4, 1, 2, 5, 1, 3, 2, 2, 4, 3, 1, 4, 3, 3, 4, 4, 1, 2, 3, 1, 3, 3, 3, 5, 5, 1, 3, 1, 4, 2, 3, 3, 2, 2, 1, 4, 4, 1, 2, 3, 4, 3, 1, 5, 2, 1, 1, 1, 2, 2, 3, 5, 4, 5, 1, 3, 4, 2, 4, 5, 5, 1, 4, 5, 2, 2, 5, 3, 4, 4, 2, 3, 5, 3, 1, 2, 3, 4, 1, 1, 3, 1, 5, 1, 2, 3, 4, 1, 1, 5, 5, 3, 3, 4, 5, 1, 5, 2, 4, 2, 3, 4, 4, 1, 2, 1, 3, 2, 3, 4, 1, 2, 4, 3, 4, 1, 1, 5, 5, 1, 4, 5, 3, 2, 2, 3, 1, 3, 5, 2, 2, 1, 2, 4, 1, 2, 3, 1, 3, 3, 4, 4, 1, 1, 4, 4, 5, 1, 3, 3, 5, 2, 1, 2, 4, 1, 5, 2, 4, 1, 1, 5, 2, 4, 2, 3, 4, 1, 4, 1, 4, 1, 2, 3, 5, 4, 5, 3, 2, 4, 4, 5, 2, 3, 5, 2, 3, 4, 5, 2, 5, 3, 4, 1, 3, 4, 2, 4, 5, 4, 5, 3, 5, 1, 4, 5, 2, 4, 1, 2, 2, 2, 3, 2, 3, 3, 5, 2, 2, 1, 1, 3, 5, 2, 1, 4, 1, 5, 1, 4, 1, 5, 5, 1, 4, 1, 4, 1, 1, 4], \"Freq\": [0.9622257947921753, 0.9080618619918823, 0.915359616279602, 0.9456132650375366, 0.9779065847396851, 0.8972183465957642, 0.9652103185653687, 0.9080626368522644, 0.8998221158981323, 0.04999011754989624, 0.3108837604522705, 0.6908528208732605, 0.9048969149589539, 0.9773364663124084, 0.9510065317153931, 0.9651261568069458, 0.9800089597702026, 0.9488095045089722, 0.9066365957260132, 0.9650983214378357, 0.2882665693759918, 0.6918397545814514, 0.6795841455459595, 0.3155212104320526, 0.9797160625457764, 0.6404598355293274, 0.3390669822692871, 0.20493462681770325, 0.7941216826438904, 0.9413171410560608, 0.915367066860199, 0.9717668294906616, 0.9713252186775208, 0.9345998764038086, 0.9446478486061096, 0.9627789258956909, 0.11557713896036148, 0.8090399503707886, 0.9644908308982849, 0.5891897082328796, 0.35351383686065674, 0.058918971568346024, 0.9409087896347046, 0.9488518238067627, 0.9622344970703125, 0.9533416628837585, 0.9304343461990356, 0.04897022992372513, 0.4666993021965027, 0.5025992393493652, 0.9497419595718384, 0.9299513697624207, 0.22139914333820343, 0.7195472121238708, 0.9871092438697815, 0.1995159089565277, 0.7980636358261108, 0.2708943486213684, 0.7043253183364868, 0.15497305989265442, 0.05165768414735794, 0.15497305989265442, 0.6198922395706177, 0.5862518548965454, 0.38106369972229004, 0.9066323041915894, 0.9334216117858887, 0.9307475090026855, 0.9796902537345886, 0.1925853192806244, 0.17118695378303528, 0.6205527186393738, 0.9341054558753967, 0.9541335105895996, 0.9533504843711853, 0.9299774765968323, 0.6428394913673401, 0.032141976058483124, 0.32141974568367004, 0.9739200472831726, 0.9546430110931396, 0.9395264387130737, 0.9635811448097229, 0.9629178047180176, 0.9456313848495483, 0.2769550383090973, 0.7200830578804016, 0.9622822999954224, 0.6482508778572083, 0.3241254389286041, 0.897213876247406, 0.059516772627830505, 0.059516772627830505, 0.8332347869873047, 0.9675454497337341, 0.03583501651883125, 0.9847452044487, 0.9680995941162109, 0.9421849250793457, 0.9755222201347351, 0.9772711992263794, 0.9622541666030884, 0.949651837348938, 0.9300165772438049, 0.43313175439834595, 0.5259457230567932, 0.9836681485176086, 0.9424965977668762, 0.9635763168334961, 0.9353874921798706, 0.9738042950630188, 0.9219962358474731, 0.9619218111038208, 0.9820663332939148, 0.06106678768992424, 0.9160018563270569, 0.9321830868721008, 0.1423710435628891, 0.8542262315750122, 0.9597434997558594, 0.9275818467140198, 0.9496577382087708, 0.9626786708831787, 0.9733607769012451, 0.98857182264328, 0.9153795838356018, 0.9627812504768372, 0.915492594242096, 0.9648945331573486, 0.2675018608570099, 0.2675018608570099, 0.4547531306743622, 0.9332653284072876, 0.6693105101585388, 0.3346552550792694, 0.9066315293312073, 0.10741870105266571, 0.6874796748161316, 0.19335366785526276, 0.9597523212432861, 0.07925491780042648, 0.8718041181564331, 0.9175042510032654, 0.048289697617292404, 0.9857114553451538, 0.22628723084926605, 0.7920053005218506, 0.9507856369018555, 0.9622556567192078, 0.49487364292144775, 0.49487364292144775, 0.11930549889802933, 0.8351384401321411, 0.9651029109954834, 0.05794236809015274, 0.8691355586051941, 0.974595844745636, 0.9551204442977905, 0.8629770874977112, 0.0908396914601326, 0.3676276206970215, 0.622139036655426, 0.9662939310073853, 0.19051912426948547, 0.7620764970779419, 0.9796434640884399, 0.9820536971092224, 0.289510041475296, 0.18094377219676971, 0.5066425800323486, 0.2633301913738251, 0.7373245358467102, 0.234327033162117, 0.7498465180397034, 0.8371023535728455, 0.0984826311469078, 0.0492413155734539, 0.9154576659202576, 0.10701029002666473, 0.8917524218559265, 0.6706238985061646, 0.3353119492530823, 0.15954843163490295, 0.1063656210899353, 0.6913765072822571, 0.07442741841077805, 0.8931290507316589, 0.9299502372741699, 0.3461783826351166, 0.6538925170898438, 0.9722915887832642, 0.2997860014438629, 0.6918138861656189, 0.9507875442504883, 0.19187776744365692, 0.31979626417160034, 0.4903542995452881, 0.9732553958892822, 0.9518385529518127, 0.663386344909668, 0.31940823793411255, 0.8588823676109314, 0.0954313725233078, 0.0318104587495327, 0.9564048647880554, 0.9412966966629028, 0.9902146458625793, 0.179372176527977, 0.7772794365882874, 0.5141194462776184, 0.02705891989171505, 0.4600016474723816, 0.8725780248641968, 0.09185031801462173, 0.9887335300445557, 0.9299671649932861, 0.9648227095603943, 0.9567816257476807, 0.962703287601471, 0.9437048435211182, 0.9220033884048462, 0.9833789467811584, 0.9070872068405151, 0.06977593898773193, 0.9319739937782288, 0.9065976738929749, 0.97968989610672, 0.9532098174095154, 0.4753285348415375, 0.5118922591209412, 0.9616056084632874, 0.9707342982292175, 0.9796972274780273, 0.915539562702179, 0.9767709970474243, 0.9854734539985657, 0.9366828799247742, 0.912902295589447, 0.9299637079238892, 0.9081193804740906, 0.9281845092773438, 0.9651817083358765, 0.9766730666160583, 0.9437127113342285, 0.044927775859832764, 0.8985555171966553, 0.9764028787612915, 0.6414186358451843, 0.32070931792259216, 0.9422069787979126, 0.6406605839729309, 0.35236331820487976, 0.9153682589530945, 0.9080700278282166, 0.952393651008606, 0.9737956523895264, 0.9473915100097656, 0.7870453000068665, 0.21862369775772095, 0.971623420715332, 0.6148276925086975, 0.04729444161057472, 0.09458888322114944, 0.1891777664422989, 0.9422755837440491, 0.07248273491859436, 0.8176531791687012, 0.163530632853508, 0.9456219673156738, 0.12830093502998352, 0.8339560627937317, 0.9796791672706604, 0.8973717093467712, 0.9421885013580322, 0.8968439698219299, 0.9421890377998352, 0.9456191062927246, 0.9421776533126831, 0.9153934717178345, 0.9289602041244507, 0.9421849250793457, 0.23959946632385254, 0.7187983989715576, 0.4496435821056366, 0.5313969254493713, 0.9517327547073364, 0.09913570433855057, 0.8922213315963745, 0.9629850387573242, 0.9541562795639038, 0.9283567667007446, 0.03713427111506462, 0.9797037839889526, 0.9688303470611572, 0.9694463610649109, 0.6368495225906372, 0.25473982095718384, 0.10189592093229294, 0.9750271439552307, 0.8294627070426941, 0.15552425384521484, 0.07205670326948166, 0.900708794593811, 0.6904346942901611, 0.2921069860458374, 0.8993377089500427, 0.04996320605278015, 0.9421899914741516, 0.1071549728512764, 0.8572397828102112, 0.3294750452041626, 0.6589500904083252, 0.9748885035514832, 0.6406415104866028, 0.34320080280303955], \"Term\": [\"#ahoramontevideo\", \"#elecciones2020\", \"#noscuidamosentretodos\", \"#quedateentucasa\", \"#river\", \"#rosario\", \"#santafe\", \"#uruguaydecide\", \"activa\", \"activa\", \"activos\", \"activos\", \"acuerdo\", \"ademas\", \"agarrar\", \"agarre\", \"agarro\", \"aislado\", \"aislar\", \"alberto_fernandez\", \"alta\", \"alta\", \"amba\", \"amba\", \"amo\", \"analisis\", \"analisis\", \"argentina\", \"argentina\", \"asintomaticos\", \"aspirina\", \"aspo\", \"atencion\", \"atras\", \"aun\", \"autoridades\", \"avance\", \"avance\", \"azul\", \"a\\u00f1os\", \"a\\u00f1os\", \"a\\u00f1os\", \"bajan\", \"barbijo\", \"buen\", \"buena\", \"busqueda\", \"busqueda\", \"cada\", \"cada\", \"cancha\", \"capital\", \"casa\", \"casa\", \"casas\", \"caso\", \"caso\", \"cientificos\", \"cientificos\", \"ciudad\", \"ciudad\", \"ciudad\", \"ciudad\", \"clases\", \"clases\", \"comenzo\", \"compa\\u00f1ero\", \"concha\", \"confinamiento\", \"contacto\", \"contacto\", \"contacto\", \"contagia\", \"contagiados\", \"corresponden\", \"creer\", \"creo\", \"creo\", \"creo\", \"cumple\", \"cura\", \"dale\", \"dan\", \"datos\", \"debido\", \"dengue\", \"dengue\", \"departamentos\", \"detectaron\", \"detectaron\", \"di\", \"dice\", \"dice\", \"dice\", \"dicen\", \"dicen\", \"dio\", \"dio_positivo\", \"direccion\", \"dispo\", \"distanciamiento\", \"dolar\", \"dolores\", \"domingo\", \"dos\", \"dos\", \"elecciones\", \"enero\", \"enfermos\", \"estres\", \"europa\", \"evitar\", \"extra\\u00f1o\", \"fallecio\", \"fernandez\", \"fernandez\", \"frente\", \"ganas\", \"ganas\", \"gran\", \"grandes\", \"habilitan\", \"hablo\", \"horas\", \"ibuprofeno\", \"igual\", \"impacto\", \"infectados\", \"informacion\", \"informe\", \"informe\", \"informe\", \"inhalable\", \"inmune\", \"inmune\", \"intendentes\", \"ir\", \"ir\", \"ir\", \"jaja\", \"joda\", \"joda\", \"jornada\", \"jornada\", \"jueves\", \"jugadores\", \"jugadores\", \"ley\", \"llegada\", \"madre\", \"madre\", \"mal\", \"mal\", \"mama\", \"manera\", \"manera\", \"marzo\", \"mata\", \"medidas\", \"medidas\", \"mes\", \"mes\", \"mierda\", \"mil\", \"mil\", \"millones\", \"minutos\", \"mira\", \"mira\", \"mira\", \"mismo\", \"mismo\", \"muertes\", \"muertes\", \"muertos\", \"muertos\", \"muertos\", \"muestras\", \"mundo\", \"mundo\", \"nacional\", \"nacional\", \"nadie\", \"nadie\", \"nadie\", \"necesito\", \"necesito\", \"negativas\", \"noche\", \"noche\", \"nueva\", \"nuevo\", \"nuevo\", \"obligatoria\", \"orto\", \"orto\", \"orto\", \"pa\", \"paciente\", \"pacientes\", \"pacientes\", \"pais\", \"pais\", \"pais\", \"pampa\", \"papi\", \"par\", \"paso\", \"paso\", \"persona\", \"persona\", \"persona\", \"personal\", \"personal\", \"pesar\", \"piden\", \"pierdo\", \"podria\", \"poner\", \"positivas\", \"post\", \"preocupacion\", \"presidente\", \"presidente\", \"preventiva\", \"preventivamente\", \"proxima\", \"puede\", \"puedo\", \"puedo\", \"puta\", \"quedo\", \"queres\", \"quiere\", \"quiero\", \"recibir\", \"registra\", \"registraron\", \"registro\", \"reportaron\", \"resultados\", \"resultaron\", \"riesgo\", \"rioja\", \"rosario\", \"rosario\", \"rusa\", \"saber\", \"saber\", \"salgo\", \"salir\", \"salir\", \"sanitaria\", \"sanitarias\", \"santa_fe\", \"segundo\", \"seguro\", \"semana\", \"semana\", \"semanas\", \"sera\", \"sera\", \"sera\", \"sera\", \"seria\", \"seria\", \"sigue\", \"sigue\", \"sintoma\", \"sintomas\", \"sintomas\", \"so\\u00f1e\", \"suerte\", \"sumaron\", \"temporada\", \"tendra\", \"termino\", \"test\", \"tiempos\", \"toda\", \"toma\", \"total\", \"total\", \"trabajo\", \"trabajo\", \"tratar\", \"trump\", \"trump\", \"ultimas\", \"ultimo\", \"uruguay\", \"uruguay\", \"usa\", \"utilizara\", \"vacuna_rusa\", \"vacunas\", \"vacunas\", \"vacunas\", \"vamos\", \"van\", \"van\", \"ver\", \"ver\", \"vida\", \"vida\", \"vieja\", \"vieja\", \"viendo\", \"viene\", \"viene\", \"viernes\", \"viernes\", \"vivir\", \"voy\", \"voy\"]}, \"R\": 30, \"lambda.step\": 0.01, \"plot.opts\": {\"xlab\": \"PC1\", \"ylab\": \"PC2\"}, \"topic.order\": [3, 4, 1, 2, 5]};\n",
       "\n",
       "function LDAvis_load_lib(url, callback){\n",
       "  var s = document.createElement('script');\n",
       "  s.src = url;\n",
       "  s.async = true;\n",
       "  s.onreadystatechange = s.onload = callback;\n",
       "  s.onerror = function(){console.warn(\"failed to load library \" + url);};\n",
       "  document.getElementsByTagName(\"head\")[0].appendChild(s);\n",
       "}\n",
       "\n",
       "if(typeof(LDAvis) !== \"undefined\"){\n",
       "   // already loaded: just create the visualization\n",
       "   !function(LDAvis){\n",
       "       new LDAvis(\"#\" + \"ldavis_el881406190674039848467814613\", ldavis_el881406190674039848467814613_data);\n",
       "   }(LDAvis);\n",
       "}else if(typeof define === \"function\" && define.amd){\n",
       "   // require.js is available: use it to load d3/LDAvis\n",
       "   require.config({paths: {d3: \"https://cdnjs.cloudflare.com/ajax/libs/d3/3.5.5/d3.min\"}});\n",
       "   require([\"d3\"], function(d3){\n",
       "      window.d3 = d3;\n",
       "      LDAvis_load_lib(\"https://cdn.rawgit.com/bmabey/pyLDAvis/files/ldavis.v1.0.0.js\", function(){\n",
       "        new LDAvis(\"#\" + \"ldavis_el881406190674039848467814613\", ldavis_el881406190674039848467814613_data);\n",
       "      });\n",
       "    });\n",
       "}else{\n",
       "    // require.js not available: dynamically load d3 & LDAvis\n",
       "    LDAvis_load_lib(\"https://cdnjs.cloudflare.com/ajax/libs/d3/3.5.5/d3.min.js\", function(){\n",
       "         LDAvis_load_lib(\"https://cdn.rawgit.com/bmabey/pyLDAvis/files/ldavis.v1.0.0.js\", function(){\n",
       "                 new LDAvis(\"#\" + \"ldavis_el881406190674039848467814613\", ldavis_el881406190674039848467814613_data);\n",
       "            })\n",
       "         });\n",
       "}\n",
       "</script>"
      ],
      "text/plain": [
       "PreparedData(topic_coordinates=              x         y  topics  cluster       Freq\n",
       "topic                                                \n",
       "2     -0.191212  0.201864       1        1  25.138760\n",
       "3      0.147809  0.047402       2        1  20.374561\n",
       "0      0.151313  0.050564       3        1  20.164467\n",
       "1      0.029387 -0.103335       4        1  18.349558\n",
       "4     -0.137296 -0.196496       5        1  15.972653, topic_info=        Term       Freq      Total Category  logprob  loglift\n",
       "996     aspo  31.000000  31.000000  Default  30.0000  30.0000\n",
       "802   quiero  40.000000  40.000000  Default  29.0000  29.0000\n",
       "636      van  57.000000  57.000000  Default  28.0000  28.0000\n",
       "98     nuevo  43.000000  43.000000  Default  27.0000  27.0000\n",
       "131      dio  32.000000  32.000000  Default  26.0000  26.0000\n",
       "...      ...        ...        ...      ...      ...      ...\n",
       "1266    mira  14.197158  27.632893   Topic5  -5.0984   1.1683\n",
       "753   ciudad  12.048079  19.358204   Topic5  -5.2625   1.3601\n",
       "1286  clases  13.129395  34.115032   Topic5  -5.1765   0.8794\n",
       "1340    amba  12.957816  41.201668   Topic5  -5.1897   0.6775\n",
       "562    salir  10.838799  31.217779   Topic5  -5.3683   0.7764\n",
       "\n",
       "[262 rows x 6 columns], token_table=      Topic      Freq                    Term\n",
       "term                                         \n",
       "1109      3  0.962226        #ahoramontevideo\n",
       "958       3  0.908062         #elecciones2020\n",
       "367       3  0.915360  #noscuidamosentretodos\n",
       "1112      3  0.945613        #quedateentucasa\n",
       "1551      3  0.977907                  #river\n",
       "...     ...       ...                     ...\n",
       "107       1  0.329475                 viernes\n",
       "107       4  0.658950                 viernes\n",
       "322       1  0.974889                   vivir\n",
       "323       1  0.640642                     voy\n",
       "323       4  0.343201                     voy\n",
       "\n",
       "[315 rows x 3 columns], R=30, lambda_step=0.01, plot_opts={'xlab': 'PC1', 'ylab': 'PC2'}, topic_order=[3, 4, 1, 2, 5])"
      ]
     },
     "execution_count": 63,
     "metadata": {},
     "output_type": "execute_result"
    }
   ],
   "source": [
    "plot_LDA_topics(best_model, tweets_ner, output_path=f'{models_dir}/{corpus_label}-{model_label}.html', filter_extremes=True)"
   ]
  },
  {
   "cell_type": "code",
   "execution_count": null,
   "metadata": {},
   "outputs": [],
   "source": []
  },
  {
   "cell_type": "code",
   "execution_count": null,
   "metadata": {},
   "outputs": [],
   "source": []
  },
  {
   "cell_type": "code",
   "execution_count": null,
   "metadata": {},
   "outputs": [],
   "source": []
  },
  {
   "cell_type": "code",
   "execution_count": null,
   "metadata": {},
   "outputs": [],
   "source": []
  },
  {
   "cell_type": "code",
   "execution_count": null,
   "metadata": {},
   "outputs": [],
   "source": []
  },
  {
   "cell_type": "code",
   "execution_count": null,
   "metadata": {},
   "outputs": [],
   "source": []
  },
  {
   "cell_type": "code",
   "execution_count": null,
   "metadata": {},
   "outputs": [],
   "source": []
  },
  {
   "cell_type": "code",
   "execution_count": null,
   "metadata": {},
   "outputs": [],
   "source": []
  },
  {
   "cell_type": "code",
   "execution_count": null,
   "metadata": {},
   "outputs": [],
   "source": []
  }
 ],
 "metadata": {
  "kernelspec": {
   "display_name": "Python 3",
   "language": "python",
   "name": "python3"
  },
  "language_info": {
   "codemirror_mode": {
    "name": "ipython",
    "version": 3
   },
   "file_extension": ".py",
   "mimetype": "text/x-python",
   "name": "python",
   "nbconvert_exporter": "python",
   "pygments_lexer": "ipython3",
   "version": "3.7.8"
  }
 },
 "nbformat": 4,
 "nbformat_minor": 4
}
